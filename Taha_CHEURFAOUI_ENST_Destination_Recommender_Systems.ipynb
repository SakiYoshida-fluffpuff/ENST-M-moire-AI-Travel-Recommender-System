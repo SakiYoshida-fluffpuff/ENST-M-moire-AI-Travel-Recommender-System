{
  "nbformat": 4,
  "nbformat_minor": 0,
  "metadata": {
    "colab": {
      "name": "Taha_CHEURFAOUI_ENST_Destination_Recommender_Systems.ipynb",
      "provenance": []
    },
    "kernelspec": {
      "display_name": "Python 3",
      "language": "python",
      "name": "python3"
    },
    "language_info": {
      "codemirror_mode": {
        "name": "ipython",
        "version": 3
      },
      "file_extension": ".py",
      "mimetype": "text/x-python",
      "name": "python",
      "nbconvert_exporter": "python",
      "pygments_lexer": "ipython3",
      "version": "3.8.8"
    }
  },
  "cells": [
    {
      "cell_type": "markdown",
      "metadata": {
        "id": "V6ln2uUzN4Fe"
      },
      "source": [
        "# Taha CHEURFAOUI ENST 'Mémoire\" Recommender System"
      ]
    },
    {
      "cell_type": "markdown",
      "metadata": {
        "id": "q_kCAORCsjzs"
      },
      "source": [
        "# Touristic Destination dataset"
      ]
    },
    {
      "cell_type": "code",
      "metadata": {
        "id": "EKsoSVraJN95"
      },
      "source": [
        "users_feedback = {'TAHA': {'ALGER': 5.0, \n",
        "\t\t                       'SETIF': 4.5,\n",
        "\t\t                       'MSILA': 2.0, \n",
        "\t\t                       'CONSTANTINE': 4.0, \n",
        "\t\t                       'TELEMCEN': 4.5, \n",
        "\t\t                       'SKIKDA': 2.0},\n",
        "\t \n",
        "\t                'MEHDI': {'ALGER': 3.0, \n",
        "\t\t                        'SETIF': 4.0, \n",
        "\t\t                        'CONSTANTINE': 4, \n",
        "\t\t                        'MSILA': 2.0, \n",
        "\t\t                        'TELEMCEN': 4.0, \n",
        "\t\t                        'SKIKDA': 4.0}, \n",
        "\n",
        "\t                'YASSER': {'ALGER': 3.5, \n",
        "\t\t                         'SETIF': 3.0,\n",
        "\t\t                         'MSILA': 2.5, \n",
        "\t\t                         'SKIKDA': 2.5},\n",
        "\t\t\t \n",
        "\t                'ISLAM': {'SETIF': 3.5, \n",
        "\t\t                          'CONSTANTINE': 3.0,\n",
        "\t\t                          'MSILA': 4.0, \n",
        "\t\t                          'TELEMCEN': 2.5, \n",
        "\t\t                          'SKIKDA': 4.5},\n",
        "\t\t\t\t \n",
        "\t                'IHEB': {'ALGER': 3.0, \n",
        "\t\t                       'SETIF': 4.0, \n",
        "\t\t                       'CONSTANTINE': 2.0, \n",
        "\t\t                       'MSILA': 3.0, \n",
        "\t\t                       'TELEMCEN': 2.0,\n",
        "\t\t                       'SKIKDA': 3.0}, \n",
        "\n",
        "\t                'ANES': {'ALGER': 3.0, \n",
        "\t                           'SETIF': 4.0,\n",
        "\t                           'MSILA': 5.0, \n",
        "\t                           'TELEMCEN': 3.5, \n",
        "\t                           'SKIKDA': 3.0},\n",
        "\t\t\t  \n",
        "\t                'CHOUAIB': {'SETIF':4.5,\n",
        "                           'MSILA':4.0,\n",
        "\t                         'TELEMCEN':1.0}\n",
        "}"
      ],
      "execution_count": 1,
      "outputs": []
    },
    {
      "cell_type": "code",
      "metadata": {
        "colab": {
          "base_uri": "https://localhost:8080/"
        },
        "id": "w8ezBp2mMb8j",
        "outputId": "f5cdff4a-9428-451f-8081-9fdedd3c7db2"
      },
      "source": [
        "users_feedback"
      ],
      "execution_count": 2,
      "outputs": [
        {
          "output_type": "execute_result",
          "data": {
            "text/plain": [
              "{'ANES': {'ALGER': 3.0,\n",
              "  'MSILA': 5.0,\n",
              "  'SETIF': 4.0,\n",
              "  'SKIKDA': 3.0,\n",
              "  'TELEMCEN': 3.5},\n",
              " 'CHOUAIB': {'MSILA': 4.0, 'SETIF': 4.5, 'TELEMCEN': 1.0},\n",
              " 'IHEB': {'ALGER': 3.0,\n",
              "  'CONSTANTINE': 2.0,\n",
              "  'MSILA': 3.0,\n",
              "  'SETIF': 4.0,\n",
              "  'SKIKDA': 3.0,\n",
              "  'TELEMCEN': 2.0},\n",
              " 'ISLAM': {'CONSTANTINE': 3.0,\n",
              "  'MSILA': 4.0,\n",
              "  'SETIF': 3.5,\n",
              "  'SKIKDA': 4.5,\n",
              "  'TELEMCEN': 2.5},\n",
              " 'MEHDI': {'ALGER': 3.0,\n",
              "  'CONSTANTINE': 4,\n",
              "  'MSILA': 2.0,\n",
              "  'SETIF': 4.0,\n",
              "  'SKIKDA': 4.0,\n",
              "  'TELEMCEN': 4.0},\n",
              " 'TAHA': {'ALGER': 5.0,\n",
              "  'CONSTANTINE': 4.0,\n",
              "  'MSILA': 2.0,\n",
              "  'SETIF': 4.5,\n",
              "  'SKIKDA': 2.0,\n",
              "  'TELEMCEN': 4.5},\n",
              " 'YASSER': {'ALGER': 3.5, 'MSILA': 2.5, 'SETIF': 3.0, 'SKIKDA': 2.5}}"
            ]
          },
          "metadata": {},
          "execution_count": 2
        }
      ]
    },
    {
      "cell_type": "code",
      "metadata": {
        "colab": {
          "base_uri": "https://localhost:8080/"
        },
        "id": "LxVtNdb0Mic_",
        "outputId": "c983207d-29ee-4b6f-ac6c-63d6c4896c44"
      },
      "source": [
        "users_feedback['TAHA']"
      ],
      "execution_count": 3,
      "outputs": [
        {
          "output_type": "execute_result",
          "data": {
            "text/plain": [
              "{'ALGER': 5.0,\n",
              " 'CONSTANTINE': 4.0,\n",
              " 'MSILA': 2.0,\n",
              " 'SETIF': 4.5,\n",
              " 'SKIKDA': 2.0,\n",
              " 'TELEMCEN': 4.5}"
            ]
          },
          "metadata": {},
          "execution_count": 3
        }
      ]
    },
    {
      "cell_type": "code",
      "metadata": {
        "colab": {
          "base_uri": "https://localhost:8080/"
        },
        "id": "bvBEjTV_Mr-8",
        "outputId": "2132c489-777d-4f9e-d826-835ca124035b"
      },
      "source": [
        "users_feedback['YASSER']"
      ],
      "execution_count": 4,
      "outputs": [
        {
          "output_type": "execute_result",
          "data": {
            "text/plain": [
              "{'ALGER': 3.5, 'MSILA': 2.5, 'SETIF': 3.0, 'SKIKDA': 2.5}"
            ]
          },
          "metadata": {},
          "execution_count": 4
        }
      ]
    },
    {
      "cell_type": "code",
      "metadata": {
        "colab": {
          "base_uri": "https://localhost:8080/"
        },
        "id": "A7UmUiNZMwlN",
        "outputId": "43abdd89-80db-4518-8cfe-85071ac4065b"
      },
      "source": [
        "users_feedback['TAHA']['SETIF']"
      ],
      "execution_count": 5,
      "outputs": [
        {
          "output_type": "execute_result",
          "data": {
            "text/plain": [
              "4.5"
            ]
          },
          "metadata": {},
          "execution_count": 5
        }
      ]
    },
    {
      "cell_type": "code",
      "metadata": {
        "colab": {
          "base_uri": "https://localhost:8080/"
        },
        "id": "e7UbrD13M5se",
        "outputId": "7b0d6498-b669-4984-8805-24123cfcb811"
      },
      "source": [
        "users_feedback['MEHDI']['MSILA']"
      ],
      "execution_count": 6,
      "outputs": [
        {
          "output_type": "execute_result",
          "data": {
            "text/plain": [
              "2.0"
            ]
          },
          "metadata": {},
          "execution_count": 6
        }
      ]
    },
    {
      "cell_type": "markdown",
      "metadata": {
        "id": "nQyTv7DGfgST"
      },
      "source": [
        "# Euclidian distance"
      ]
    },
    {
      "cell_type": "code",
      "metadata": {
        "id": "nAWNb2N6USIc"
      },
      "source": [
        "import math"
      ],
      "execution_count": 7,
      "outputs": []
    },
    {
      "cell_type": "code",
      "metadata": {
        "colab": {
          "base_uri": "https://localhost:8080/"
        },
        "id": "TuuzGTLTUXVY",
        "outputId": "ccda69c4-be39-439c-df1f-d2172f23dc73"
      },
      "source": [
        "math.pow(5, 2), math.pow(3, 2)"
      ],
      "execution_count": 8,
      "outputs": [
        {
          "output_type": "execute_result",
          "data": {
            "text/plain": [
              "(25.0, 9.0)"
            ]
          },
          "metadata": {},
          "execution_count": 8
        }
      ]
    },
    {
      "cell_type": "code",
      "metadata": {
        "colab": {
          "base_uri": "https://localhost:8080/"
        },
        "id": "MnpWVJToUz2Z",
        "outputId": "bda1726f-9ce2-4c28-f4d4-563ffd5986af"
      },
      "source": [
        "math.pow(3 - 3, 2)"
      ],
      "execution_count": 9,
      "outputs": [
        {
          "output_type": "execute_result",
          "data": {
            "text/plain": [
              "0.0"
            ]
          },
          "metadata": {},
          "execution_count": 9
        }
      ]
    },
    {
      "cell_type": "code",
      "metadata": {
        "colab": {
          "base_uri": "https://localhost:8080/"
        },
        "id": "gPadodKaU27o",
        "outputId": "38c47ef3-d0dd-4486-93bc-ea9b5ef5eec9"
      },
      "source": [
        "math.pow(3.5 - 4, 2)"
      ],
      "execution_count": 10,
      "outputs": [
        {
          "output_type": "execute_result",
          "data": {
            "text/plain": [
              "0.25"
            ]
          },
          "metadata": {},
          "execution_count": 10
        }
      ]
    },
    {
      "cell_type": "code",
      "metadata": {
        "colab": {
          "base_uri": "https://localhost:8080/"
        },
        "id": "r7ZYiYkYU95x",
        "outputId": "4bd3de10-5d0f-431f-b908-10a2e9c585b9"
      },
      "source": [
        "math.sqrt(math.pow(3 - 3, 2) + math.pow(3.5 - 4, 2))"
      ],
      "execution_count": 11,
      "outputs": [
        {
          "output_type": "execute_result",
          "data": {
            "text/plain": [
              "0.5"
            ]
          },
          "metadata": {},
          "execution_count": 11
        }
      ]
    },
    {
      "cell_type": "code",
      "metadata": {
        "colab": {
          "base_uri": "https://localhost:8080/"
        },
        "id": "KtgCH6ptVVBD",
        "outputId": "6b1814d9-b1dc-4f9e-a83c-a9295445bbe8"
      },
      "source": [
        "math.sqrt(math.pow(3 - 1.5, 2) + math.pow(3.5 - 5, 2))"
      ],
      "execution_count": 12,
      "outputs": [
        {
          "output_type": "execute_result",
          "data": {
            "text/plain": [
              "2.1213203435596424"
            ]
          },
          "metadata": {},
          "execution_count": 12
        }
      ]
    },
    {
      "cell_type": "code",
      "metadata": {
        "colab": {
          "base_uri": "https://localhost:8080/"
        },
        "id": "qsziZImiWA8N",
        "outputId": "12a5f0e5-5a11-44b8-b278-346934235b92"
      },
      "source": [
        "1 / (1 + math.sqrt(math.pow(3 - 3, 2) + math.pow(3.5 - 4, 2)))"
      ],
      "execution_count": 13,
      "outputs": [
        {
          "output_type": "execute_result",
          "data": {
            "text/plain": [
              "0.6666666666666666"
            ]
          },
          "metadata": {},
          "execution_count": 13
        }
      ]
    },
    {
      "cell_type": "code",
      "metadata": {
        "colab": {
          "base_uri": "https://localhost:8080/"
        },
        "id": "bD33Z17aWLEr",
        "outputId": "c49568c7-945d-4420-aa4f-9326b795c90b"
      },
      "source": [
        "1 / (1 + math.sqrt(math.pow(3 - 1.5, 2) + math.pow(3.5 - 5, 2)))"
      ],
      "execution_count": 14,
      "outputs": [
        {
          "output_type": "execute_result",
          "data": {
            "text/plain": [
              "0.32037724101704074"
            ]
          },
          "metadata": {},
          "execution_count": 14
        }
      ]
    },
    {
      "cell_type": "code",
      "metadata": {
        "colab": {
          "base_uri": "https://localhost:8080/"
        },
        "id": "gFDrmba3YQ5q",
        "outputId": "e47c9935-b7d3-4f18-e4bf-b8373282d8cd"
      },
      "source": [
        "users_feedback['TAHA'], users_feedback['ISLAM']"
      ],
      "execution_count": 15,
      "outputs": [
        {
          "output_type": "execute_result",
          "data": {
            "text/plain": [
              "({'ALGER': 5.0,\n",
              "  'CONSTANTINE': 4.0,\n",
              "  'MSILA': 2.0,\n",
              "  'SETIF': 4.5,\n",
              "  'SKIKDA': 2.0,\n",
              "  'TELEMCEN': 4.5},\n",
              " {'CONSTANTINE': 3.0,\n",
              "  'MSILA': 4.0,\n",
              "  'SETIF': 3.5,\n",
              "  'SKIKDA': 4.5,\n",
              "  'TELEMCEN': 2.5})"
            ]
          },
          "metadata": {},
          "execution_count": 15
        }
      ]
    },
    {
      "cell_type": "code",
      "metadata": {
        "id": "D-2ls9ujW8G1"
      },
      "source": [
        "def euclidian_distance(dataset, user1, user2):\n",
        "  similarity = {}\n",
        "  for item in dataset[user1]:\n",
        "    #print(item)\n",
        "    if item in dataset[user2]:\n",
        "      #print(item)\n",
        "      similarity[item] = 1\n",
        "  \n",
        "  #print(similarity)\n",
        "  #print(len(similarity))\n",
        "\n",
        "  if len(similarity) == 0:\n",
        "    return 0\n",
        "\n",
        "  #print([dataset[user1][item] for item in dataset[user1] if item in dataset[user2]])\n",
        "  #print([dataset[user2][item] for item in dataset[user2] if item in dataset[user1]])\n",
        "\n",
        "  sum_euclidian = sum([math.pow(dataset[user1][item] - dataset[user2][item], 2) for item in dataset[user1] if item in dataset[user2]])\n",
        "  #print(sum_euclidian)\n",
        "\n",
        "  return 1 / (1 + math.sqrt(sum_euclidian))"
      ],
      "execution_count": 16,
      "outputs": []
    },
    {
      "cell_type": "code",
      "metadata": {
        "colab": {
          "base_uri": "https://localhost:8080/"
        },
        "id": "cyFjlbaRXU-w",
        "outputId": "3ff471cc-934a-4733-be41-bc10c9445962"
      },
      "source": [
        "euclidian_distance(users_feedback, 'TAHA', 'ISLAM')"
      ],
      "execution_count": 17,
      "outputs": [
        {
          "output_type": "execute_result",
          "data": {
            "text/plain": [
              "0.1987625491245426"
            ]
          },
          "metadata": {},
          "execution_count": 17
        }
      ]
    },
    {
      "cell_type": "code",
      "metadata": {
        "colab": {
          "base_uri": "https://localhost:8080/"
        },
        "id": "Zdo1dPWcbZ9M",
        "outputId": "d5196a8f-871c-4e23-a5cf-c3aca543598f"
      },
      "source": [
        "euclidian_distance(users_feedback, 'TAHA', 'IHEB')"
      ],
      "execution_count": 18,
      "outputs": [
        {
          "output_type": "execute_result",
          "data": {
            "text/plain": [
              "0.1975496259559987"
            ]
          },
          "metadata": {},
          "execution_count": 18
        }
      ]
    },
    {
      "cell_type": "code",
      "metadata": {
        "colab": {
          "base_uri": "https://localhost:8080/"
        },
        "id": "fk65qPhlbjEQ",
        "outputId": "9458ed04-7932-42ea-f1d0-b1069e6e0171"
      },
      "source": [
        "euclidian_distance(users_feedback, 'TAHA', 'ANES')"
      ],
      "execution_count": 19,
      "outputs": [
        {
          "output_type": "execute_result",
          "data": {
            "text/plain": [
              "0.20386840968093525"
            ]
          },
          "metadata": {},
          "execution_count": 19
        }
      ]
    },
    {
      "cell_type": "markdown",
      "metadata": {
        "id": "MB8NVSDu0o8y"
      },
      "source": [
        "# Similarity between users"
      ]
    },
    {
      "cell_type": "code",
      "metadata": {
        "id": "7-dGey3IdpCl"
      },
      "source": [
        "def get_similarities(dataset, user):\n",
        "  similarity = [(euclidian_distance(dataset, user, other), other) for other in dataset if other != user]\n",
        "  #print(similarity)\n",
        "  similarity.sort()\n",
        "  similarity.reverse()\n",
        "  return similarity"
      ],
      "execution_count": 20,
      "outputs": []
    },
    {
      "cell_type": "code",
      "metadata": {
        "colab": {
          "base_uri": "https://localhost:8080/"
        },
        "id": "I1YoXZ22eFSE",
        "outputId": "b97bc9b9-1930-41fe-9fa0-2b1b7ce22015"
      },
      "source": [
        "get_similarities(users_feedback, 'TAHA')"
      ],
      "execution_count": 21,
      "outputs": [
        {
          "output_type": "execute_result",
          "data": {
            "text/plain": [
              "[(0.3090169943749474, 'YASSER'),\n",
              " (0.2553967929896867, 'MEHDI'),\n",
              " (0.20386840968093525, 'ANES'),\n",
              " (0.1987625491245426, 'ISLAM'),\n",
              " (0.1987625491245426, 'CHOUAIB'),\n",
              " (0.1975496259559987, 'IHEB')]"
            ]
          },
          "metadata": {},
          "execution_count": 21
        }
      ]
    },
    {
      "cell_type": "code",
      "metadata": {
        "colab": {
          "base_uri": "https://localhost:8080/"
        },
        "id": "PMpHh0XoeucD",
        "outputId": "fe7fed65-2eda-4319-91f1-b9fa6e46b468"
      },
      "source": [
        "get_similarities(users_feedback, 'ANES')"
      ],
      "execution_count": 22,
      "outputs": [
        {
          "output_type": "execute_result",
          "data": {
            "text/plain": [
              "[(0.32037724101704074, 'ISLAM'),\n",
              " (0.2857142857142857, 'IHEB'),\n",
              " (0.2674788903885893, 'CHOUAIB'),\n",
              " (0.26427884169111276, 'YASSER'),\n",
              " (0.23800671553691075, 'MEHDI'),\n",
              " (0.20386840968093525, 'TAHA')]"
            ]
          },
          "metadata": {},
          "execution_count": 22
        }
      ]
    },
    {
      "cell_type": "markdown",
      "metadata": {
        "id": "F57Gf9Khq_Dz"
      },
      "source": [
        "# Touristic Destination recommendation"
      ]
    },
    {
      "cell_type": "code",
      "metadata": {
        "colab": {
          "base_uri": "https://localhost:8080/"
        },
        "id": "pCs_PXbGLENY",
        "outputId": "503cca83-311a-498c-f13a-17f25b4bc612"
      },
      "source": [
        "users_feedback['TAHA']"
      ],
      "execution_count": 23,
      "outputs": [
        {
          "output_type": "execute_result",
          "data": {
            "text/plain": [
              "{'ALGER': 5.0,\n",
              " 'CONSTANTINE': 4.0,\n",
              " 'MSILA': 2.0,\n",
              " 'SETIF': 4.5,\n",
              " 'SKIKDA': 2.0,\n",
              " 'TELEMCEN': 4.5}"
            ]
          },
          "metadata": {},
          "execution_count": 23
        }
      ]
    },
    {
      "cell_type": "code",
      "metadata": {
        "colab": {
          "base_uri": "https://localhost:8080/"
        },
        "id": "hbV_QiOLLIuh",
        "outputId": "09ee9e23-5a57-4abf-9674-f4cbcefa9bd4"
      },
      "source": [
        "users_feedback['ANES']"
      ],
      "execution_count": 24,
      "outputs": [
        {
          "output_type": "execute_result",
          "data": {
            "text/plain": [
              "{'ALGER': 3.0, 'MSILA': 5.0, 'SETIF': 4.0, 'SKIKDA': 3.0, 'TELEMCEN': 3.5}"
            ]
          },
          "metadata": {},
          "execution_count": 24
        }
      ]
    },
    {
      "cell_type": "code",
      "metadata": {
        "id": "D2O1N4YDIVSK"
      },
      "source": [
        "def get_user_recommendation(dataset, user):\n",
        "  totals = {}\n",
        "  sum_similarity = {}\n",
        "  for other in dataset:\n",
        "    if other == user:\n",
        "      continue    \n",
        "    \n",
        "    #print('--------')\n",
        "    #print(other)\n",
        "    similarity = euclidian_distance(dataset, user, other)\n",
        "    #print(similarity)\n",
        "\n",
        "    if similarity == 0:\n",
        "      continue\n",
        "\n",
        "    for item in dataset[other]:\n",
        "      #print(item)\n",
        "      if item not in dataset[user]:\n",
        "        #print(item)\n",
        "        totals.setdefault(item, 0)\n",
        "        #print(totals)\n",
        "        totals[item] += dataset[other][item] * similarity\n",
        "\n",
        "        sum_similarity.setdefault(item, 0)\n",
        "        sum_similarity[item] += similarity\n",
        "\n",
        "  #print(totals)\n",
        "  #print(sum_similarity)\n",
        "  recommendations = [(total / sum_similarity[item], item) for item, total in totals.items()]  \n",
        "  recommendations.sort()\n",
        "  recommendations.reverse()\n",
        "  return recommendations"
      ],
      "execution_count": 25,
      "outputs": []
    },
    {
      "cell_type": "code",
      "metadata": {
        "colab": {
          "base_uri": "https://localhost:8080/"
        },
        "id": "hEwfTw6XPMdF",
        "outputId": "f4cc862f-f05f-4a76-c20b-2e7f207c7d96"
      },
      "source": [
        "4.711523927029628 / 1.6931342030228063"
      ],
      "execution_count": 26,
      "outputs": [
        {
          "output_type": "execute_result",
          "data": {
            "text/plain": [
              "2.7827232588048805"
            ]
          },
          "metadata": {},
          "execution_count": 26
        }
      ]
    },
    {
      "cell_type": "code",
      "metadata": {
        "colab": {
          "base_uri": "https://localhost:8080/"
        },
        "id": "JAkz4-lVI9om",
        "outputId": "a73d0142-a600-4e6f-ac01-dc05d676fa93"
      },
      "source": [
        "get_user_recommendation(users_feedback, 'CHOUAIB')"
      ],
      "execution_count": 27,
      "outputs": [
        {
          "output_type": "execute_result",
          "data": {
            "text/plain": [
              "[(3.397760819858336, 'ALGER'),\n",
              " (3.2227200282055875, 'SKIKDA'),\n",
              " (3.012191655700445, 'CONSTANTINE')]"
            ]
          },
          "metadata": {},
          "execution_count": 27
        }
      ]
    },
    {
      "cell_type": "code",
      "metadata": {
        "colab": {
          "base_uri": "https://localhost:8080/"
        },
        "id": "Xi9piTRgRQO_",
        "outputId": "df918782-e88d-4520-ce58-ebf108431bb5"
      },
      "source": [
        "get_user_recommendation(users_feedback, 'TAHA')"
      ],
      "execution_count": 28,
      "outputs": [
        {
          "output_type": "execute_result",
          "data": {
            "text/plain": [
              "[]"
            ]
          },
          "metadata": {},
          "execution_count": 28
        }
      ]
    },
    {
      "cell_type": "code",
      "metadata": {
        "colab": {
          "base_uri": "https://localhost:8080/"
        },
        "id": "daTfXXh6Ra86",
        "outputId": "924c83a9-ddd9-4800-beb6-f54f653137ef"
      },
      "source": [
        "get_user_recommendation(users_feedback, 'ISLAM')"
      ],
      "execution_count": 29,
      "outputs": [
        {
          "output_type": "execute_result",
          "data": {
            "text/plain": [
              "[(3.390231419452463, 'ALGER')]"
            ]
          },
          "metadata": {},
          "execution_count": 29
        }
      ]
    },
    {
      "cell_type": "code",
      "metadata": {
        "colab": {
          "base_uri": "https://localhost:8080/"
        },
        "id": "K9fBithdRjEg",
        "outputId": "a0fde780-113c-4425-eb55-9f05c478fb74"
      },
      "source": [
        "get_user_recommendation(users_feedback, 'ANES')"
      ],
      "execution_count": 30,
      "outputs": [
        {
          "output_type": "execute_result",
          "data": {
            "text/plain": [
              "[(3.1490131763383, 'CONSTANTINE')]"
            ]
          },
          "metadata": {},
          "execution_count": 30
        }
      ]
    },
    {
      "cell_type": "code",
      "metadata": {
        "colab": {
          "base_uri": "https://localhost:8080/"
        },
        "id": "JlQ_j1WtSsz4",
        "outputId": "b90be455-2fb1-4663-885f-1e11462745a2"
      },
      "source": [
        "get_user_recommendation(users_feedback, 'YASSER')"
      ],
      "execution_count": 31,
      "outputs": [
        {
          "output_type": "execute_result",
          "data": {
            "text/plain": [
              "[(3.160860817608522, 'CONSTANTINE'), (2.8582479955654367, 'TELEMCEN')]"
            ]
          },
          "metadata": {},
          "execution_count": 31
        }
      ]
    },
    {
      "cell_type": "markdown",
      "metadata": {
        "id": "EQaPKGF7SEVA"
      },
      "source": [
        "# Select user to be recommended"
      ]
    },
    {
      "cell_type": "code",
      "metadata": {
        "id": "YFb1lkweR4LC"
      },
      "source": [
        "recommendation = get_user_recommendation(users_feedback, 'ANES')"
      ],
      "execution_count": 32,
      "outputs": []
    },
    {
      "cell_type": "code",
      "metadata": {
        "colab": {
          "base_uri": "https://localhost:8080/"
        },
        "id": "pb3WZYU9SAlm",
        "outputId": "8c98498c-7781-4c2a-88b0-e4e3a0ac778d"
      },
      "source": [
        "recommendation"
      ],
      "execution_count": 33,
      "outputs": [
        {
          "output_type": "execute_result",
          "data": {
            "text/plain": [
              "[(3.1490131763383, 'CONSTANTINE')]"
            ]
          },
          "metadata": {},
          "execution_count": 33
        }
      ]
    },
    {
      "cell_type": "code",
      "metadata": {
        "id": "CGPTxr80RxYA"
      },
      "source": [
        "def print_user_recommendation(recommendations, min_score):\n",
        "  for destination in recommendations:\n",
        "    #print(destination, destination[0], destination[1])\n",
        "    if destination[0] >= min_score:\n",
        "      print(destination[1])"
      ],
      "execution_count": 34,
      "outputs": []
    },
    {
      "cell_type": "markdown",
      "metadata": {
        "id": "r1fDA2aMSEVB"
      },
      "source": [
        "# Recommended Destination"
      ]
    },
    {
      "cell_type": "code",
      "metadata": {
        "colab": {
          "base_uri": "https://localhost:8080/"
        },
        "id": "wmP8UMNuSH5i",
        "outputId": "56828434-fb99-46ee-f91f-88abe72836e5"
      },
      "source": [
        "print_user_recommendation(recommendation, 3)"
      ],
      "execution_count": 35,
      "outputs": [
        {
          "output_type": "stream",
          "name": "stdout",
          "text": [
            "CONSTANTINE\n"
          ]
        }
      ]
    }
  ]
}